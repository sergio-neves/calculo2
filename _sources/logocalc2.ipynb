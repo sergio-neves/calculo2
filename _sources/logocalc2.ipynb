{
 "cells": [
  {
   "cell_type": "code",
   "execution_count": null,
   "id": "f9a7ee01",
   "metadata": {},
   "outputs": [],
   "source": [
    "import plotly.graph_objects as go\n",
    "import numpy as np"
   ]
  },
  {
   "cell_type": "code",
   "execution_count": null,
   "id": "beb9172c",
   "metadata": {},
   "outputs": [],
   "source": [
    "x1 = np.array([0,-1,-1,0])\n",
    "y1 = np.array([0,0,1,1])\n",
    "\n",
    "x2 = np.array([0.5,1,1.5])\n",
    "y2 = np.array([0,1,0])\n",
    "\n",
    "x3 = np.array([0.7,1.3])\n",
    "y3 = np.array([0.4,0.4])\n",
    "\n",
    "x4 = np.array([3,2,2])\n",
    "y4 = np.array([0,0,1])\n",
    "\n",
    "x5 = np.array([5.2,6.2,5.8,5.8,6.2,5.2,5.6,5.6])\n",
    "y5 = np.array([0,0,0,1,1,1,1,0])\n",
    "\n",
    "fig = go.Figure(\n",
    "    data=[go.Scatter(x=x1, y=y1,\n",
    "                     mode=\"lines\",\n",
    "                     line=dict(width=4, color=\"blue\")),\n",
    "          go.Scatter(x=x2, y=y2,\n",
    "                     mode=\"lines\",\n",
    "                     line=dict(width=4, color=\"blue\")),\n",
    "          go.Scatter(x=x3, y=y3,\n",
    "                     mode=\"lines\",\n",
    "                     line=dict(width=4, color=\"blue\")),\n",
    "          go.Scatter(x=x4, y=y4,\n",
    "                     mode=\"lines\",\n",
    "                     line=dict(width=4, color=\"blue\")),\n",
    "          go.Scatter(x=x1+4.5, y=y1,\n",
    "                     mode=\"lines\",\n",
    "                     line=dict(width=4, color=\"blue\")),\n",
    "          go.Scatter(x=x5, y=y5,\n",
    "                     mode=\"lines\",\n",
    "                     line=dict(width=4, color=\"blue\")),\n",
    "          go.Scatter(x=[4.7],y=[0],\n",
    "            mode=\"markers\",\n",
    "            marker=dict(color=\"blue\", size=8, symbol=\"square\"))])\n",
    "\n",
    "fig.update_yaxes(\n",
    "    scaleanchor = \"x\",\n",
    "    scaleratio = 1,\n",
    "  )\n",
    "\n",
    "fig.update_layout(xaxis=dict(range=[-1.5,6.7],showticklabels=False),yaxis=dict(showticklabels=False))\n",
    "\n",
    "fig.update_layout(showlegend=False)\n",
    "\n",
    "fig.show()\n"
   ]
  }
 ],
 "metadata": {
  "kernelspec": {
   "display_name": "base",
   "language": "python",
   "name": "python3"
  },
  "language_info": {
   "codemirror_mode": {
    "name": "ipython",
    "version": 3
   },
   "file_extension": ".py",
   "mimetype": "text/x-python",
   "name": "python",
   "nbconvert_exporter": "python",
   "pygments_lexer": "ipython3",
   "version": "3.10.9"
  }
 },
 "nbformat": 4,
 "nbformat_minor": 5
}
